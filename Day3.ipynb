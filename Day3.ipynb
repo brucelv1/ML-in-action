{
 "cells": [
  {
   "cell_type": "markdown",
   "metadata": {},
   "source": [
    "# KNN"
   ]
  },
  {
   "cell_type": "code",
   "execution_count": 3,
   "metadata": {},
   "outputs": [],
   "source": [
    "from numpy import *\n",
    "import operator\n",
    "def createDataSet():\n",
    "    group = array([[1.0, 1.1], [1.0, 1.0], [0, 0], [0, 0.1]])\n",
    "    labels = ['A', 'A', 'B', 'B']\n",
    "    return group, labels"
   ]
  },
  {
   "cell_type": "code",
   "execution_count": 14,
   "metadata": {},
   "outputs": [
    {
     "name": "stdout",
     "output_type": "stream",
     "text": [
      "[ 1.  1.  0.  0.]\n",
      "['A', 'A', 'B', 'B']\n"
     ]
    },
    {
     "data": {
      "image/png": "[encoded data removed]",
      "text/plain": [
       "<matplotlib.figure.Figure at 0x1d40c489d68>"
      ]
     },
     "metadata": {},
     "output_type": "display_data"
    }
   ],
   "source": [
    "import matplotlib.pyplot as plt\n",
    "group, labels = createDataSet()\n",
    "print(group[:, 0])\n",
    "print(labels)\n",
    "\n",
    "plt.scatter(group[:, 0], group[:, 1])\n",
    "for i in range(len(group[:, 0])):\n",
    "    plt.annotate(labels[i], xy = (group[i, 0], group[i, 1]), xytext = (group[i, 0] + 0.01, group[i, 1] + 0.01))\n",
    "plt.show()"
   ]
  },
  {
   "cell_type": "code",
   "execution_count": 32,
   "metadata": {
    "collapsed": true
   },
   "outputs": [],
   "source": [
    "#This is a KNN classifier\n",
    "def classify0(inX, dataSet, labels, k):\n",
    "    #number of training samples\n",
    "    dataSetSize = dataSet.shape[0]\n",
    "    #construct testing data with training samples\n",
    "    diffMat = tile(inX, (dataSetSize, 1)) - dataSet\n",
    "    #calculate the Euclidian distance\n",
    "    sqDifMat = diffMat**2\n",
    "    sqDistances = sqDifMat.sum(axis = 1)\n",
    "    distances = sqDistances**0.5\n",
    "    #get index of the distance in distances from min to max\n",
    "    sortedDistIndicies = distances.argsort()\n",
    "    #dic for vote labels\n",
    "    classCount = {}\n",
    "    #voting with lowest k distances by sorting dictionary\n",
    "    for i in range(k):\n",
    "        voteIlabel = labels[sortedDistIndicies[i]]\n",
    "        classCount[voteIlabel] = classCount.get(voteIlabel, 0) + 1\n",
    "    sortedClassCount = sorted(classCount.items(), key = operator.itemgetter(1), reverse = True)\n",
    "    return sortedClassCount[0][0]"
   ]
  },
  {
   "cell_type": "code",
   "execution_count": 34,
   "metadata": {},
   "outputs": [
    {
     "name": "stdout",
     "output_type": "stream",
     "text": [
      "B\n"
     ]
    }
   ],
   "source": [
    "a = classify0([0, 0], group, labels, 3)\n",
    "print(a)"
   ]
  },
  {
   "cell_type": "code",
   "execution_count": 20,
   "metadata": {},
   "outputs": [
    {
     "name": "stdout",
     "output_type": "stream",
     "text": [
      "(4, 2)\n"
     ]
    }
   ],
   "source": [
    "a = group.sum(axis=1)\n",
    "a = group.shape\n",
    "print(a)"
   ]
  },
  {
   "cell_type": "code",
   "execution_count": null,
   "metadata": {
    "collapsed": true
   },
   "outputs": [],
   "source": []
  }
 ],
 "metadata": {
  "kernelspec": {
   "display_name": "Python 3",
   "language": "python",
   "name": "python3"
  },
  "language_info": {
   "codemirror_mode": {
    "name": "ipython",
    "version": 3
   },
   "file_extension": ".py",
   "mimetype": "text/x-python",
   "name": "python",
   "nbconvert_exporter": "python",
   "pygments_lexer": "ipython3",
   "version": "3.6.3"
  }
 },
 "nbformat": 4,
 "nbformat_minor": 2
}
